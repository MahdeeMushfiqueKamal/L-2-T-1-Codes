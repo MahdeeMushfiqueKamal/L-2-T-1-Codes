{
 "cells": [
  {
   "cell_type": "code",
   "execution_count": 4,
   "id": "social-morgan",
   "metadata": {},
   "outputs": [],
   "source": [
    "import math\n",
    "import numpy as np;\n",
    "import matplotlib.pyplot as plt\n",
    "\n",
    "f = lambda x: (x / (1-x)) * math.sqrt(6/(2+x)) - 0.05\n",
    "\n",
    "def bisection(xl,xr,Es,max_iteration):\n",
    "    xl = float(xl);xr = float(xr);Es = float(Es);max_iteration = int(max_iteration)\n",
    "    if(f(xl)*f(xr) >= 0):\n",
    "        print(\"Invalid Input\")\n",
    "        return\n",
    "    xm_old = (xl + xr) #random value\n",
    "    for i in range(max_iteration):\n",
    "        xm = (xl + xr)/2\n",
    "        Sign = f(xm) * f(xl)\n",
    "        Ea = abs((xm - xm_old)/xm)*100\n",
    "        xm_old = xm\n",
    "        if i != 0:\n",
    "            print(i+1,\"      \",xm,\"     \",Ea)\n",
    "        else:\n",
    "            print(i+1,\"      \",xm,\"         -\",)\n",
    "\n",
    "        if (Sign == 0) or (Ea < Es):\n",
    "            break\n",
    "        elif (Sign < 0):\n",
    "            xr = xm\n",
    "        else:\n",
    "            xl = xm\n",
    "\n",
    "\n",
    "    return xm"
   ]
  },
  {
   "cell_type": "code",
   "execution_count": 5,
   "id": "recorded-clock",
   "metadata": {},
   "outputs": [
    {
     "data": {
      "image/png": "[encoded data removed]",
      "text/plain": [
       "<Figure size 432x288 with 1 Axes>"
      ]
     },
     "metadata": {
      "needs_background": "light"
     },
     "output_type": "display_data"
    }
   ],
   "source": [
    "plt.title(\"Visualizing f(x)\")\n",
    "plt.xlabel(\"X\")\n",
    "plt.ylabel(\"Y\")\n",
    "\n",
    "plt.axis = [-2,4]\n",
    "Xarr = np.linspace(-1.9,3.5,100)\n",
    "lst = list()\n",
    "for i in Xarr:\n",
    "    y = f(i)\n",
    "    lst.append(y)\n",
    "Yarr = np.array(lst)\n",
    "plt.plot(Xarr,Yarr, 'b',label= 'f(x)')\n",
    "plt.plot(np.array([-2.5,4.5]),np.array([0,0]),'r')\n",
    "plt.show()"
   ]
  },
  {
   "cell_type": "code",
   "execution_count": 6,
   "id": "heated-heading",
   "metadata": {},
   "outputs": [
    {
     "ename": "TypeError",
     "evalue": "bisection() missing 2 required positional arguments: 'Es' and 'max_iteration'",
     "output_type": "error",
     "traceback": [
      "\u001b[1;31m---------------------------------------------------------------------------\u001b[0m",
      "\u001b[1;31mTypeError\u001b[0m                                 Traceback (most recent call last)",
      "\u001b[1;32m<ipython-input-6-3586721a9371>\u001b[0m in \u001b[0;36m<module>\u001b[1;34m\u001b[0m\n\u001b[1;32m----> 1\u001b[1;33m \u001b[0mbisection\u001b[0m\u001b[1;33m(\u001b[0m\u001b[1;36m0.1\u001b[0m\u001b[1;33m,\u001b[0m\u001b[1;36m0.9\u001b[0m\u001b[1;33m)\u001b[0m\u001b[1;33m\u001b[0m\u001b[1;33m\u001b[0m\u001b[0m\n\u001b[0m",
      "\u001b[1;31mTypeError\u001b[0m: bisection() missing 2 required positional arguments: 'Es' and 'max_iteration'"
     ]
    }
   ],
   "source": [
    "bisection(0.1,0.9)"
   ]
  },
  {
   "cell_type": "code",
   "execution_count": 8,
   "id": "manual-approach",
   "metadata": {},
   "outputs": [
    {
     "name": "stdout",
     "output_type": "stream",
     "text": [
      "Invalid Input\n",
      "None\n"
     ]
    }
   ],
   "source": [
    "print(bisection(0.1,0.9,0.05,10000))\n"
   ]
  },
  {
   "cell_type": "code",
   "execution_count": 9,
   "id": "productive-capitol",
   "metadata": {},
   "outputs": [
    {
     "data": {
      "text/plain": [
       "0.13781205660633705"
      ]
     },
     "execution_count": 9,
     "metadata": {},
     "output_type": "execute_result"
    }
   ],
   "source": [
    "f(0.1)"
   ]
  },
  {
   "cell_type": "code",
   "execution_count": 10,
   "id": "portable-grace",
   "metadata": {},
   "outputs": [
    {
     "data": {
      "text/plain": [
       "12.895509140105375"
      ]
     },
     "execution_count": 10,
     "metadata": {},
     "output_type": "execute_result"
    }
   ],
   "source": [
    "f(0.9)"
   ]
  },
  {
   "cell_type": "code",
   "execution_count": 11,
   "id": "blond-shower",
   "metadata": {},
   "outputs": [
    {
     "data": {
      "text/plain": [
       "-0.05"
      ]
     },
     "execution_count": 11,
     "metadata": {},
     "output_type": "execute_result"
    }
   ],
   "source": [
    "f(0)"
   ]
  },
  {
   "cell_type": "code",
   "execution_count": null,
   "id": "agricultural-appearance",
   "metadata": {},
   "outputs": [],
   "source": []
  }
 ],
 "metadata": {
  "kernelspec": {
   "display_name": "Python 3",
   "language": "python",
   "name": "python3"
  },
  "language_info": {
   "codemirror_mode": {
    "name": "ipython",
    "version": 3
   },
   "file_extension": ".py",
   "mimetype": "text/x-python",
   "name": "python",
   "nbconvert_exporter": "python",
   "pygments_lexer": "ipython3",
   "version": "3.8.2"
  }
 },
 "nbformat": 4,
 "nbformat_minor": 5
}
