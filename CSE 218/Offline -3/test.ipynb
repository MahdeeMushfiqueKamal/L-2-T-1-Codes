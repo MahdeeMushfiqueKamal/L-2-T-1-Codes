{
 "metadata": {
  "language_info": {
   "codemirror_mode": {
    "name": "ipython",
    "version": 3
   },
   "file_extension": ".py",
   "mimetype": "text/x-python",
   "name": "python",
   "nbconvert_exporter": "python",
   "pygments_lexer": "ipython3",
   "version": "3.8.2"
  },
  "orig_nbformat": 4,
  "kernelspec": {
   "name": "python3",
   "display_name": "Python 3.8.2 32-bit"
  },
  "interpreter": {
   "hash": "1e7ea4acda95b8ced6a6715337feb35195e80864984a64a08b1d2b4038b2bb85"
  }
 },
 "nbformat": 4,
 "nbformat_minor": 2,
 "cells": [
  {
   "cell_type": "code",
   "execution_count": 24,
   "metadata": {},
   "outputs": [],
   "source": [
    "import math\n",
    "\n",
    "u = 2000\n",
    "m0 = 140000\n",
    "q = 2100\n",
    "\n",
    "def f(t):\n",
    "    return u * math.log(m0 / (m0 - q*t) ) - 9.8*t\n",
    "\n",
    "def findArea(low_limit,high_limit,n):\n",
    "    area = 0\n",
    "    h = (high_limit-low_limit)/n\n",
    "    print(\"h is \",h)\n",
    "    a = low_limit\n",
    "\n",
    "    for i in range(n):\n",
    "        print(\"f(a+h) is: \",f(a+h))\n",
    "        print(\"f(a) is: \",f(a))\n",
    "        trap = 0.5* h * (f(a+h) + f(a))\n",
    "        area += trap\n",
    "        a += h\n",
    "    return area\n"
   ]
  },
  {
   "cell_type": "code",
   "execution_count": 25,
   "metadata": {},
   "outputs": [],
   "source": [
    "def findArea2(a,b,n):\n",
    "    h = (b-a)/n\n",
    "    print(\"h is \",h)\n",
    "    area = f(a) + f(b)\n",
    "    print(\"f(a) is: \",f(a))\n",
    "    print(\"f(b) is: \",f(b))\n",
    "    for i in range(1,n):\n",
    "        print(\"f(a + i*h) is: \",f(a + i*h))\n",
    "        area += 2* f(a + i*h)\n",
    "    \n",
    "    area *= (0.5*h)\n",
    "    return area"
   ]
  },
  {
   "cell_type": "code",
   "execution_count": 26,
   "metadata": {},
   "outputs": [
    {
     "output_type": "stream",
     "name": "stdout",
     "text": [
      "h is  11.0\nf(a+h) is:  484.74547257625863\nf(a) is:  177.26674301977\nf(a+h) is:  901.6740015112407\nf(a) is:  484.74547257625863\n11266.374293259403\nh is  11.0\nf(a) is:  177.26674301977\nf(b) is:  901.6740015112407\nf(a + i*h) is:  484.74547257625863\n11266.374293259403\n"
     ]
    }
   ],
   "source": [
    "print(findArea(8,30,2))\n",
    "print(findArea2(8,30,2))"
   ]
  },
  {
   "cell_type": "code",
   "execution_count": 27,
   "metadata": {},
   "outputs": [
    {
     "output_type": "stream",
     "name": "stdout",
     "text": [
      "Part 2\nh is  22.0\nf(a+h) is:  901.6740015112407\nf(a) is:  177.26674301977\nh is  11.0\nf(a+h) is:  484.74547257625863\nf(a) is:  177.26674301977\nf(a+h) is:  901.6740015112407\nf(a) is:  484.74547257625863\nh is  7.333333333333333\nf(a+h) is:  372.46286160214834\nf(a) is:  177.26674301977\nf(a+h) is:  608.8975545899982\nf(a) is:  372.46286160214834\nf(a+h) is:  901.6740015112407\nf(a) is:  608.8975545899982\nh is  5.5\nf(a+h) is:  320.246888646275\nf(a) is:  177.26674301977\nf(a+h) is:  484.74547257625863\nf(a) is:  320.246888646275\nf(a+h) is:  676.0501167609235\nf(a) is:  484.74547257625863\nf(a+h) is:  901.6740015112407\nf(a) is:  676.0501167609235\nh is  4.4\nf(a+h) is:  290.0698259591934\nf(a) is:  177.26674301977\nf(a+h) is:  416.06460201531956\nf(a) is:  290.0698259591934\nf(a+h) is:  557.6912422773498\nf(a) is:  416.06460201531956\nf(a+h) is:  718.1366308972346\nf(a) is:  557.6912422773498\nf(a+h) is:  901.6740015112407\nf(a) is:  718.1366308972346\n+---------------+--------------------+-------------------------+\n| Sub-intervals |  Calculated value  | Abs Relative Appx Error |\n+---------------+--------------------+-------------------------+\n|       1       | 11868.34818984112  |            -            |\n|       2       | 11266.374293259403 |    5.343102234246495    |\n|       3       | 11152.759115356113 |    1.0187181192396981   |\n|       4       | 11112.820676369294 |    0.359390654721404    |\n|       5       | 11094.303763024252 |   0.16690469037593883   |\n+---------------+--------------------+-------------------------+\n"
     ]
    }
   ],
   "source": [
    "from prettytable import PrettyTable\n",
    "print(\"Part 2\")\n",
    "table = PrettyTable([\"Sub-intervals\",\"Calculated value\",\"Abs Relative Appx Error\"])\n",
    "\n",
    "\n",
    "area_old = findArea(8,30,1)\n",
    "table.add_row([1, area_old, '-'])\n",
    "for i in range(2,6):\n",
    "    area_new = findArea(8,30,i)\n",
    "    appxRelError = 100*abs(area_new- area_old)/area_new\n",
    "    table.add_row([i, area_new, appxRelError])\n",
    "    area_old = area_new\n",
    "\n",
    "print(table)"
   ]
  }
 ]
}